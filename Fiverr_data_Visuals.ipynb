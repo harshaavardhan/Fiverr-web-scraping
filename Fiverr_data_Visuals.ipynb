{
  "nbformat": 4,
  "nbformat_minor": 0,
  "metadata": {
    "colab": {
      "name": "Fiverr data Visuals",
      "provenance": [],
      "mount_file_id": "13Y2cbMTjHYqt9TGM_hl-vjy7ZLY0eiSL",
      "authorship_tag": "ABX9TyPBuhfKNFiWSOdv3MkkKuUp",
      "include_colab_link": true
    },
    "kernelspec": {
      "name": "python3",
      "display_name": "Python 3"
    }
  },
  "cells": [
    {
      "cell_type": "markdown",
      "metadata": {
        "id": "view-in-github",
        "colab_type": "text"
      },
      "source": [
        "<a href=\"https://colab.research.google.com/github/harshaavardhan/Fiverr-web-scraping/blob/master/Fiverr_data_Visuals.ipynb\" target=\"_parent\"><img src=\"https://colab.research.google.com/assets/colab-badge.svg\" alt=\"Open In Colab\"/></a>"
      ]
    },
    {
      "cell_type": "code",
      "metadata": {
        "id": "HbRmE6Fe8iA_",
        "colab_type": "code",
        "colab": {
          "base_uri": "https://localhost:8080/",
          "height": 131
        },
        "outputId": "c5c16515-070a-43f2-f746-8d04b88902f5"
      },
      "source": [
        "import pandas as pd\n",
        "from google.colab import drive \n",
        "drive.mount('/content/gdrive')\n",
        "import numpy as np # linear algebra\n",
        "import seaborn as sns\n",
        "import matplotlib.pyplot as plt\n",
        "%matplotlib inline"
      ],
      "execution_count": null,
      "outputs": [
        {
          "output_type": "stream",
          "text": [
            "Go to this URL in a browser: https://accounts.google.com/o/oauth2/auth?client_id=947318989803-6bn6qk8qdgf4n4g3pfee6491hc0brc4i.apps.googleusercontent.com&redirect_uri=urn%3aietf%3awg%3aoauth%3a2.0%3aoob&response_type=code&scope=email%20https%3a%2f%2fwww.googleapis.com%2fauth%2fdocs.test%20https%3a%2f%2fwww.googleapis.com%2fauth%2fdrive%20https%3a%2f%2fwww.googleapis.com%2fauth%2fdrive.photos.readonly%20https%3a%2f%2fwww.googleapis.com%2fauth%2fpeopleapi.readonly\n",
            "\n",
            "Enter your authorization code:\n",
            "··········\n",
            "Mounted at /content/gdrive\n"
          ],
          "name": "stdout"
        }
      ]
    },
    {
      "cell_type": "code",
      "metadata": {
        "id": "Fr4EL2R9IrJA",
        "colab_type": "code",
        "colab": {}
      },
      "source": [
        ""
      ],
      "execution_count": null,
      "outputs": []
    },
    {
      "cell_type": "code",
      "metadata": {
        "id": "wkmKEyNOGb3K",
        "colab_type": "code",
        "colab": {}
      },
      "source": [
        "df=pd.read_csv('/content/gdrive/My Drive/H2o Market Research/Fiverr/Fiverr-marketdata.csv')\n",
        "\n",
        "df.columns=['Name','Description','type_of_seller','avg_rating','total_ratings','starting_price']"
      ],
      "execution_count": null,
      "outputs": []
    },
    {
      "cell_type": "markdown",
      "metadata": {
        "id": "CQa7UxlfZcI2",
        "colab_type": "text"
      },
      "source": [
        "The data was read from csv and and will be analysed. The correlation between avg rating and price. There is some correlation between avg rating and total rating but hardly any correlation between the ratings and price"
      ]
    },
    {
      "cell_type": "code",
      "metadata": {
        "id": "JmcX9nGDHURV",
        "colab_type": "code",
        "colab": {
          "base_uri": "https://localhost:8080/",
          "height": 300
        },
        "outputId": "c5ceb847-832e-4572-8709-b748779370c6"
      },
      "source": [
        "sns.heatmap(df.corr())"
      ],
      "execution_count": null,
      "outputs": [
        {
          "output_type": "execute_result",
          "data": {
            "text/plain": [
              "<matplotlib.axes._subplots.AxesSubplot at 0x7fc80f770470>"
            ]
          },
          "metadata": {
            "tags": []
          },
          "execution_count": 34
        },
        {
          "output_type": "display_data",
          "data": {
            "image/png": "[encoded data removed]",
            "text/plain": [
              "<Figure size 432x288 with 2 Axes>"
            ]
          },
          "metadata": {
            "tags": [],
            "needs_background": "light"
          }
        }
      ]
    },
    {
      "cell_type": "markdown",
      "metadata": {
        "id": "tmB3NOYEZ8NB",
        "colab_type": "text"
      },
      "source": [
        "The histogram of prices shows the frquency of distribution"
      ]
    },
    {
      "cell_type": "code",
      "metadata": {
        "id": "1svon9WpIR0b",
        "colab_type": "code",
        "colab": {
          "base_uri": "https://localhost:8080/",
          "height": 321
        },
        "outputId": "2401fbae-451c-4ab8-f530-9630ff62f8f7"
      },
      "source": [
        "#histogram of avg ratings\n",
        "plt.hist(df.avg_rating)\n"
      ],
      "execution_count": null,
      "outputs": [
        {
          "output_type": "execute_result",
          "data": {
            "text/plain": [
              "(array([424.,   0.,   3.,   0.,   0.,   0.,   6.,   6.,  17., 504.]),\n",
              " array([0. , 0.5, 1. , 1.5, 2. , 2.5, 3. , 3.5, 4. , 4.5, 5. ]),\n",
              " <a list of 10 Patch objects>)"
            ]
          },
          "metadata": {
            "tags": []
          },
          "execution_count": 37
        },
        {
          "output_type": "display_data",
          "data": {
            "image/png": "[encoded data removed]",
            "text/plain": [
              "<Figure size 432x288 with 1 Axes>"
            ]
          },
          "metadata": {
            "tags": [],
            "needs_background": "light"
          }
        }
      ]
    },
    {
      "cell_type": "code",
      "metadata": {
        "id": "bjjg2Iu_PAEy",
        "colab_type": "code",
        "colab": {
          "base_uri": "https://localhost:8080/",
          "height": 265
        },
        "outputId": "b66283c9-997e-460d-d3c6-40a85164ca9c"
      },
      "source": [
        "#histogram of total ratings\n",
        "plt.hist(df.total_ratings)\n",
        "plt.show()"
      ],
      "execution_count": null,
      "outputs": [
        {
          "output_type": "display_data",
          "data": {
            "image/png": "[encoded data removed]",
            "text/plain": [
              "<Figure size 432x288 with 1 Axes>"
            ]
          },
          "metadata": {
            "tags": [],
            "needs_background": "light"
          }
        }
      ]
    },
    {
      "cell_type": "code",
      "metadata": {
        "id": "m2W1nDWbPGAW",
        "colab_type": "code",
        "colab": {
          "base_uri": "https://localhost:8080/",
          "height": 280
        },
        "outputId": "c624c124-2d3c-48ce-9605-5e306ba25c61"
      },
      "source": [
        "sns.countplot(df.starting_price)\n",
        "plt.show()"
      ],
      "execution_count": null,
      "outputs": [
        {
          "output_type": "display_data",
          "data": {
            "image/png": "[encoded data removed]",
            "text/plain": [
              "<Figure size 432x288 with 1 Axes>"
            ]
          },
          "metadata": {
            "tags": [],
            "needs_background": "light"
          }
        }
      ]
    },
    {
      "cell_type": "markdown",
      "metadata": {
        "id": "gjU2KDItaFbj",
        "colab_type": "text"
      },
      "source": [
        "three fourth of the prices lie below rs. 3000. We are looking at the ratings vs starting price for members of the last quartile"
      ]
    },
    {
      "cell_type": "code",
      "metadata": {
        "id": "o5bdwm53PaCz",
        "colab_type": "code",
        "colab": {
          "base_uri": "https://localhost:8080/",
          "height": 299
        },
        "outputId": "3a6cb547-e9a5-4ac4-f36d-4e4b17e1542c"
      },
      "source": [
        "sns.boxplot(df.avg_rating,df.starting_price[df.starting_price >3000])"
      ],
      "execution_count": null,
      "outputs": [
        {
          "output_type": "execute_result",
          "data": {
            "text/plain": [
              "<matplotlib.axes._subplots.AxesSubplot at 0x7fc809bb5cc0>"
            ]
          },
          "metadata": {
            "tags": []
          },
          "execution_count": 58
        },
        {
          "output_type": "display_data",
          "data": {
            "image/png": "[encoded data removed]",
            "text/plain": [
              "<Figure size 432x288 with 1 Axes>"
            ]
          },
          "metadata": {
            "tags": [],
            "needs_background": "light"
          }
        }
      ]
    },
    {
      "cell_type": "code",
      "metadata": {
        "id": "940gkFjCQDyF",
        "colab_type": "code",
        "colab": {
          "base_uri": "https://localhost:8080/",
          "height": 299
        },
        "outputId": "e6818fe5-f909-4177-ce26-2cfa313b91c6"
      },
      "source": [
        "sns.scatterplot(df.avg_rating,df.starting_price)"
      ],
      "execution_count": null,
      "outputs": [
        {
          "output_type": "execute_result",
          "data": {
            "text/plain": [
              "<matplotlib.axes._subplots.AxesSubplot at 0x7fc80ac00ef0>"
            ]
          },
          "metadata": {
            "tags": []
          },
          "execution_count": 45
        },
        {
          "output_type": "display_data",
          "data": {
            "image/png": "[encoded data removed]",
            "text/plain": [
              "<Figure size 432x288 with 1 Axes>"
            ]
          },
          "metadata": {
            "tags": [],
            "needs_background": "light"
          }
        }
      ]
    },
    {
      "cell_type": "markdown",
      "metadata": {
        "id": "SlkZu95baWLr",
        "colab_type": "text"
      },
      "source": [
        "Outliers are observed in the avg ratings vs price boxplot. where they are above 4 ratings and price above 20000rs."
      ]
    },
    {
      "cell_type": "code",
      "metadata": {
        "id": "Ic2tlpLZSTDE",
        "colab_type": "code",
        "colab": {
          "base_uri": "https://localhost:8080/",
          "height": 299
        },
        "outputId": "88840d24-bd66-4f7a-a8c8-d889b32bd25d"
      },
      "source": [
        "outliers=df[(df.starting_price >20000 )& (df.avg_rating >4)]\n",
        "\n",
        "sns.boxplot(outliers.type_of_seller,outliers.starting_price)"
      ],
      "execution_count": null,
      "outputs": [
        {
          "output_type": "execute_result",
          "data": {
            "text/plain": [
              "<matplotlib.axes._subplots.AxesSubplot at 0x7fc809a1d860>"
            ]
          },
          "metadata": {
            "tags": []
          },
          "execution_count": 76
        },
        {
          "output_type": "display_data",
          "data": {
            "image/png": "[encoded data removed]",
            "text/plain": [
              "<Figure size 432x288 with 1 Axes>"
            ]
          },
          "metadata": {
            "tags": [],
            "needs_background": "light"
          }
        }
      ]
    },
    {
      "cell_type": "code",
      "metadata": {
        "id": "YCZMVEfqYBMx",
        "colab_type": "code",
        "colab": {
          "base_uri": "https://localhost:8080/",
          "height": 394
        },
        "outputId": "dccf5027-ebca-4db3-aaa9-11c41e512e8b"
      },
      "source": [
        "outliers"
      ],
      "execution_count": null,
      "outputs": [
        {
          "output_type": "execute_result",
          "data": {
            "text/html": [
              "<div>\n",
              "<style scoped>\n",
              "    .dataframe tbody tr th:only-of-type {\n",
              "        vertical-align: middle;\n",
              "    }\n",
              "\n",
              "    .dataframe tbody tr th {\n",
              "        vertical-align: top;\n",
              "    }\n",
              "\n",
              "    .dataframe thead th {\n",
              "        text-align: right;\n",
              "    }\n",
              "</style>\n",
              "<table border=\"1\" class=\"dataframe\">\n",
              "  <thead>\n",
              "    <tr style=\"text-align: right;\">\n",
              "      <th></th>\n",
              "      <th>Name</th>\n",
              "      <th>Description</th>\n",
              "      <th>type_of_seller</th>\n",
              "      <th>avg_rating</th>\n",
              "      <th>total_ratings</th>\n",
              "      <th>starting_price</th>\n",
              "    </tr>\n",
              "  </thead>\n",
              "  <tbody>\n",
              "    <tr>\n",
              "      <th>3</th>\n",
              "      <td>aaronfrio</td>\n",
              "      <td>I will do an MBA level market research for you</td>\n",
              "      <td>Level 1 Seller</td>\n",
              "      <td>5.0</td>\n",
              "      <td>3</td>\n",
              "      <td>52125.0</td>\n",
              "    </tr>\n",
              "    <tr>\n",
              "      <th>6</th>\n",
              "      <td>marcocucco726</td>\n",
              "      <td>I will research italian market, companies and ...</td>\n",
              "      <td>NaN</td>\n",
              "      <td>5.0</td>\n",
              "      <td>1</td>\n",
              "      <td>41250.0</td>\n",
              "    </tr>\n",
              "    <tr>\n",
              "      <th>10</th>\n",
              "      <td>mana007</td>\n",
              "      <td>I will do business plan marketing plan market ...</td>\n",
              "      <td>Level 2 Seller</td>\n",
              "      <td>4.9</td>\n",
              "      <td>138</td>\n",
              "      <td>33750.0</td>\n",
              "    </tr>\n",
              "    <tr>\n",
              "      <th>11</th>\n",
              "      <td>marcellustuff</td>\n",
              "      <td>I will provide market research and competitive</td>\n",
              "      <td>NaN</td>\n",
              "      <td>5.0</td>\n",
              "      <td>2</td>\n",
              "      <td>33750.0</td>\n",
              "    </tr>\n",
              "    <tr>\n",
              "      <th>14</th>\n",
              "      <td>laurensdavis</td>\n",
              "      <td>I will create a market research report for any...</td>\n",
              "      <td>Level 1 Seller</td>\n",
              "      <td>4.9</td>\n",
              "      <td>24</td>\n",
              "      <td>33750.0</td>\n",
              "    </tr>\n",
              "    <tr>\n",
              "      <th>15</th>\n",
              "      <td>georgielh64</td>\n",
              "      <td>I will provide the best market research and in...</td>\n",
              "      <td>NaN</td>\n",
              "      <td>4.8</td>\n",
              "      <td>35</td>\n",
              "      <td>31875.0</td>\n",
              "    </tr>\n",
              "    <tr>\n",
              "      <th>16</th>\n",
              "      <td>dataguru1</td>\n",
              "      <td>I will complete market research and competitor...</td>\n",
              "      <td>NaN</td>\n",
              "      <td>4.9</td>\n",
              "      <td>5</td>\n",
              "      <td>30000.0</td>\n",
              "    </tr>\n",
              "    <tr>\n",
              "      <th>17</th>\n",
              "      <td>dataguru1</td>\n",
              "      <td>I will complete market research and competitor...</td>\n",
              "      <td>NaN</td>\n",
              "      <td>4.9</td>\n",
              "      <td>5</td>\n",
              "      <td>30000.0</td>\n",
              "    </tr>\n",
              "    <tr>\n",
              "      <th>20</th>\n",
              "      <td>mpmooreco</td>\n",
              "      <td>I will conduct market research and competitor ...</td>\n",
              "      <td>Level 1 Seller</td>\n",
              "      <td>5.0</td>\n",
              "      <td>5</td>\n",
              "      <td>22125.0</td>\n",
              "    </tr>\n",
              "    <tr>\n",
              "      <th>21</th>\n",
              "      <td>erisedreflected</td>\n",
              "      <td>I will conduct competitor and market research ...</td>\n",
              "      <td>Level 2 Seller</td>\n",
              "      <td>5.0</td>\n",
              "      <td>8</td>\n",
              "      <td>21000.0</td>\n",
              "    </tr>\n",
              "    <tr>\n",
              "      <th>23</th>\n",
              "      <td>hello_irene</td>\n",
              "      <td>I will research cross border ecommerce market ...</td>\n",
              "      <td>Level 1 Seller</td>\n",
              "      <td>5.0</td>\n",
              "      <td>1</td>\n",
              "      <td>21000.0</td>\n",
              "    </tr>\n",
              "  </tbody>\n",
              "</table>\n",
              "</div>"
            ],
            "text/plain": [
              "                Name  ... starting_price\n",
              "3          aaronfrio  ...        52125.0\n",
              "6      marcocucco726  ...        41250.0\n",
              "10           mana007  ...        33750.0\n",
              "11     marcellustuff  ...        33750.0\n",
              "14      laurensdavis  ...        33750.0\n",
              "15       georgielh64  ...        31875.0\n",
              "16         dataguru1  ...        30000.0\n",
              "17         dataguru1  ...        30000.0\n",
              "20         mpmooreco  ...        22125.0\n",
              "21   erisedreflected  ...        21000.0\n",
              "23       hello_irene  ...        21000.0\n",
              "\n",
              "[11 rows x 6 columns]"
            ]
          },
          "metadata": {
            "tags": []
          },
          "execution_count": 77
        }
      ]
    }
  ]
}